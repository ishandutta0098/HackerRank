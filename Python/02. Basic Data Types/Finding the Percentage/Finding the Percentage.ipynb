{
 "cells": [
  {
   "cell_type": "markdown",
   "metadata": {},
   "source": [
    "# Finding the Percentage"
   ]
  },
  {
   "cell_type": "code",
   "execution_count": 1,
   "metadata": {},
   "outputs": [
    {
     "name": "stdout",
     "output_type": "stream",
     "text": [
      "2\n",
      "Harsh 23 25 22\n",
      "Vishal 21 22 21\n",
      "Harsh\n",
      "23.33\n"
     ]
    }
   ],
   "source": [
    "n = int(input())\n",
    "total = dict()\n",
    "for i in range(0, n):\n",
    "    tokens = input().split()\n",
    "    name = tokens[0]\n",
    "    total[name] = float(tokens[1]) + float(tokens[2]) + float(tokens[3])\n",
    "\n",
    "student = input()\n",
    "print (\"{0:.2f}\".format(total[student] / 3))"
   ]
  }
 ],
 "metadata": {
  "kernelspec": {
   "display_name": "Python 3",
   "language": "python",
   "name": "python3"
  },
  "language_info": {
   "codemirror_mode": {
    "name": "ipython",
    "version": 3
   },
   "file_extension": ".py",
   "mimetype": "text/x-python",
   "name": "python",
   "nbconvert_exporter": "python",
   "pygments_lexer": "ipython3",
   "version": "3.7.4"
  }
 },
 "nbformat": 4,
 "nbformat_minor": 2
}
