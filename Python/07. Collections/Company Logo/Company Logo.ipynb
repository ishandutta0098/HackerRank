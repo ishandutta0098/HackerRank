{
 "cells": [
  {
   "cell_type": "markdown",
   "metadata": {},
   "source": [
    "# Company Logo"
   ]
  },
  {
   "cell_type": "markdown",
   "metadata": {},
   "source": [
    "A newly opened multinational brand has decided to base their company logo on the three most common characters in the company name. They are now trying out various combinations of company names and logos based on this condition. Given a string s, which is the company name in lowercase letters, your task is to find the top three most common characters in the string.\n",
    "- Print the three most common characters along with their occurrence count.\n",
    "- Sort in descending order of occurrence count.\n",
    "- If the occurrence count is the same, sort the characters in alphabetical order.\n",
    "\n",
    "For example, according to the conditions described above,\n",
    "GOOGLE would have it's logo with the letters G,O,E.\n",
    "\n",
    "## Input Format\n",
    "A single line of input containing the string S.\n",
    "\n",
    "## Constraints\n",
    "- 3<len(S)<=10^4\n",
    "\n",
    "## Output Format\n",
    "Print the three most common characters along with their occurrence count each on a separate line.  \n",
    "Sort output in descending order of occurrence count.  \n",
    "If the occurrence count is the same, sort the characters in alphabetical order.  \n",
    "\n",
    "### Sample Input 0\n",
    "aabbbccde\n",
    "\n",
    "### Sample Output 0\n",
    "b 3\n",
    "a 2\n",
    "c 2\n",
    "\n",
    "### Explanation 0\n",
    "aabbbccde\n",
    "\n",
    "Here, b occurs 3 times. It is printed first.\n",
    "Both a and c occur 2 times. So, a is printed in the second line and c in the third line because a comes before c in the alphabet.\n",
    "\n",
    "**Note:** The string S has at least 3 distinct characters."
   ]
  },
  {
   "cell_type": "markdown",
   "metadata": {},
   "source": [
    "# Solution"
   ]
  },
  {
   "cell_type": "code",
   "execution_count": 2,
   "metadata": {},
   "outputs": [
    {
     "name": "stdout",
     "output_type": "stream",
     "text": [
      "hackerrank\n",
      "a 2\n",
      "k 2\n",
      "r 2\n"
     ]
    }
   ],
   "source": [
    "import collections\n",
    "\n",
    "s = sorted(input().strip())\n",
    "s_counter = collections.Counter(s).most_common()\n",
    "\n",
    "s_counter = sorted(s_counter, key=lambda x: (x[1] * -1, x[0]))\n",
    "for i in range(0, 3):\n",
    "    print(s_counter[i][0], s_counter[i][1])\n"
   ]
  }
 ],
 "metadata": {
  "kernelspec": {
   "display_name": "Python 3",
   "language": "python",
   "name": "python3"
  },
  "language_info": {
   "codemirror_mode": {
    "name": "ipython",
    "version": 3
   },
   "file_extension": ".py",
   "mimetype": "text/x-python",
   "name": "python",
   "nbconvert_exporter": "python",
   "pygments_lexer": "ipython3",
   "version": "3.7.4"
  }
 },
 "nbformat": 4,
 "nbformat_minor": 2
}
