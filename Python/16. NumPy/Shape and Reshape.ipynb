{
 "cells": [
  {
   "cell_type": "markdown",
   "metadata": {},
   "source": [
    "# Shape and Reshape\n",
    "\n"
   ]
  },
  {
   "cell_type": "markdown",
   "metadata": {},
   "source": [
    "## shape\n",
    "\n",
    "The shape tool gives a tuple of array dimensions and can be used to change the dimensions of an array.\n",
    "\n",
    "(a). Using shape to get array dimensions\n",
    "\n",
    "import numpy\n",
    "\n",
    "my__1D_array = numpy.array([1, 2, 3, 4, 5])  \n",
    "print my_1D_array.shape     #(5,) -> 5 rows and 0 columns\n",
    "\n",
    "my__2D_array = numpy.array([[1, 2],[3, 4],[6,5]])  \n",
    "print my_2D_array.shape     #(3, 2) -> 3 rows and 2 columns \n",
    "\n",
    "(b). Using shape to change array dimensions\n",
    "\n",
    "import numpy\n",
    "\n",
    "change_array = numpy.array([1,2,3,4,5,6])  \n",
    "change_array.shape = (3, 2)  \n",
    "print change_array      \n",
    "\n",
    "#Output  \n",
    "[[1 2]   \n",
    "[3 4  \n",
    "[5 6]]  \n",
    "\n",
    "## reshape\n",
    "\n",
    "The reshape tool gives a new shape to an array without changing its data. It creates a new array and does not modify the original array itself.\n",
    "\n",
    "import numpy\n",
    "\n",
    "my_array = numpy.array([1,2,3,4,5,6])\n",
    "print numpy.reshape(my_array,(3,2))\n",
    "\n",
    "#Output\n",
    "[[1 2]\n",
    "[3 4]\n",
    "[5 6]]\n",
    "\n",
    "## Task\n",
    "\n",
    "You are given a space separated list of nine integers. Your task is to convert this list into a 3X3 NumPy array.\n",
    "\n",
    "## Input Format\n",
    "\n",
    "A single line of input containing 9 space separated integers.\n",
    "\n",
    "## Output Format\n",
    "\n",
    "Print the 3X3 NumPy array.\n",
    "\n",
    "### Sample Input\n",
    "1 2 3 4 5 6 7 8 9\n",
    "\n",
    "### Sample Output\n",
    "[[1 2 3]   \n",
    " [4 5 6]  \n",
    " [7 8 9]]"
   ]
  },
  {
   "cell_type": "markdown",
   "metadata": {},
   "source": [
    "# Solution"
   ]
  },
  {
   "cell_type": "code",
   "execution_count": 1,
   "metadata": {},
   "outputs": [
    {
     "name": "stdout",
     "output_type": "stream",
     "text": [
      "4 5 2 6 8 2 3 8 4\n",
      "[[4 5 2]\n",
      " [6 8 2]\n",
      " [3 8 4]]\n"
     ]
    }
   ],
   "source": [
    "import numpy as np\n",
    "\n",
    "print(np.array(input().split(),int).reshape(3,3))"
   ]
  }
 ],
 "metadata": {
  "kernelspec": {
   "display_name": "Python 3",
   "language": "python",
   "name": "python3"
  },
  "language_info": {
   "codemirror_mode": {
    "name": "ipython",
    "version": 3
   },
   "file_extension": ".py",
   "mimetype": "text/x-python",
   "name": "python",
   "nbconvert_exporter": "python",
   "pygments_lexer": "ipython3",
   "version": "3.7.4"
  }
 },
 "nbformat": 4,
 "nbformat_minor": 2
}
