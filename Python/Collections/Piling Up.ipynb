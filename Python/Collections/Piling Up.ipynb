{
 "cells": [
  {
   "cell_type": "markdown",
   "metadata": {},
   "source": [
    "# Piling Up!\n",
    "\n"
   ]
  },
  {
   "cell_type": "markdown",
   "metadata": {},
   "source": [
    "There is a horizontal row of n cubes. The length of each cube is given. You need to create a new vertical pile of cubes. The new pile should follow these directions: if cube(i) is on top of cube(j) then sideLength(j)>=sideLength(i).\n",
    "\n",
    "When stacking the cubes, you can only pick up either the leftmost or the rightmost cube each time. Print \"Yes\" if it is possible to stack the cubes. Otherwise, print \"No\". Do not print the quotation marks.\n",
    "\n",
    "## Input Format\n",
    "\n",
    "The first line contains a single integer T, the number of test cases.\n",
    "For each test case, there are 2 lines.\n",
    "The first line of each test case contains n, the number of cubes.\n",
    "The second line contains n space separated integers, denoting the sideLengths of each cube in that order.\n",
    "\n",
    "## Constraints\n",
    "- 1<=T<=5\n",
    "- 1<=n<=10^5\n",
    "- 1<=sideLength<2^31\n",
    "\n",
    "## Output Format\n",
    "For each test case, output a single line containing either \"Yes\" or \"No\" without the quotes.\n",
    "\n",
    "### Sample Input\n",
    "2  \n",
    "6  \n",
    "4 3 2 1 3 4  \n",
    "3  \n",
    "1 3 2  \n",
    "\n",
    "### Sample Output\n",
    "Yes\n",
    "No\n",
    "\n",
    "### Explanation\n",
    "\n",
    "In the first test case, pick in this order: left - 4, right - 4, left - 3, right - 3, left - 2, right - 1.\n",
    "In the second test case, no order gives an appropriate arrangement of vertical cubes. 3 will always come after either 1 or 2."
   ]
  },
  {
   "cell_type": "markdown",
   "metadata": {},
   "source": [
    "# Solution"
   ]
  },
  {
   "cell_type": "code",
   "execution_count": 1,
   "metadata": {},
   "outputs": [
    {
     "name": "stdout",
     "output_type": "stream",
     "text": [
      "2\n",
      "6\n",
      "4 3 2 1 3 4\n",
      "Yes\n",
      "3\n",
      "1 3 2\n",
      "No\n"
     ]
    }
   ],
   "source": [
    "from collections import deque\n",
    "for _ in range(int(input())):\n",
    "    flag = True\n",
    "    input()\n",
    "    d = deque(map(int, input().strip().split()))\n",
    "    if (d[0] >= d[-1]):\n",
    "        max = d.popleft()\n",
    "    else:\n",
    "        max = d.pop()\n",
    "    while d:\n",
    "        if (len(d) == 1):\n",
    "            if (d[0] <= max):\n",
    "                break\n",
    "            else:\n",
    "                flag = False\n",
    "                break;\n",
    "        else:\n",
    "            if d[0] <= max and d[-1] <= max:\n",
    "                if d[0] >= d[-1]:\n",
    "                    max = d.popleft()\n",
    "                else:\n",
    "                   max = d.pop()\n",
    "            elif d[0] <= max:\n",
    "                max = d.popleft()\n",
    "            elif d[-1] <= max:\n",
    "                max = d.pop()\n",
    "            else:\n",
    "                flag = False\n",
    "                break;\n",
    "\n",
    "    if flag:\n",
    "        print (\"Yes\")\n",
    "    else:\n",
    "        print (\"No\")\n"
   ]
  }
 ],
 "metadata": {
  "kernelspec": {
   "display_name": "Python 3",
   "language": "python",
   "name": "python3"
  },
  "language_info": {
   "codemirror_mode": {
    "name": "ipython",
    "version": 3
   },
   "file_extension": ".py",
   "mimetype": "text/x-python",
   "name": "python",
   "nbconvert_exporter": "python",
   "pygments_lexer": "ipython3",
   "version": "3.7.4"
  }
 },
 "nbformat": 4,
 "nbformat_minor": 2
}
