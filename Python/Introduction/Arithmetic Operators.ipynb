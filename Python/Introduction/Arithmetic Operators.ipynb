{
 "cells": [
  {
   "cell_type": "markdown",
   "metadata": {},
   "source": [
    "# Arithmetic Operators\n",
    "\n"
   ]
  },
  {
   "cell_type": "markdown",
   "metadata": {},
   "source": [
    "## Task\n",
    "Read two integers from STDIN and print three lines where:\n",
    "\n",
    "- The first line contains the sum of the two numbers.\n",
    "- The second line contains the difference of the two numbers (first - second).\n",
    "- The third line contains the product of the two numbers.\n",
    "\n",
    "## Input Format\n",
    "\n",
    "The first line contains the first integer, a. The second line contains the second integer, b.\n",
    "\n",
    "## Constraints\n",
    "\n",
    "1<=a<=10^10   \n",
    "1<=b<=10^10 \n",
    "\n",
    "## Output Format\n",
    "\n",
    "Print the three lines as explained above."
   ]
  },
  {
   "cell_type": "markdown",
   "metadata": {},
   "source": [
    "### Sample Input 0\n",
    "\n",
    "3\n",
    "2\n",
    "\n",
    "### Sample Output 0\n",
    "\n",
    "5\n",
    "1\n",
    "6\n",
    "\n",
    "### Explanation 0\n",
    "\n",
    "3 + 2 = 5  \n",
    "3 - 2 = 1  \n",
    "3 * 2 = 6  "
   ]
  },
  {
   "cell_type": "markdown",
   "metadata": {},
   "source": [
    "## Solution"
   ]
  },
  {
   "cell_type": "code",
   "execution_count": 1,
   "metadata": {},
   "outputs": [
    {
     "name": "stdout",
     "output_type": "stream",
     "text": [
      "5\n",
      "6\n",
      "11\n",
      "-1\n",
      "30\n"
     ]
    }
   ],
   "source": [
    "if __name__ == '__main__':\n",
    "    a = int(input())\n",
    "    b = int(input())\n",
    "print(a+b)\n",
    "print(a-b)\n",
    "print(a*b)\n"
   ]
  }
 ],
 "metadata": {
  "kernelspec": {
   "display_name": "Python 3",
   "language": "python",
   "name": "python3"
  },
  "language_info": {
   "codemirror_mode": {
    "name": "ipython",
    "version": 3
   },
   "file_extension": ".py",
   "mimetype": "text/x-python",
   "name": "python",
   "nbconvert_exporter": "python",
   "pygments_lexer": "ipython3",
   "version": "3.7.4"
  }
 },
 "nbformat": 4,
 "nbformat_minor": 2
}
