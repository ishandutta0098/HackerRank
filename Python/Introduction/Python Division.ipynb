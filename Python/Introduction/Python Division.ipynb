{
 "cells": [
  {
   "cell_type": "markdown",
   "metadata": {},
   "source": [
    "# Python: Division"
   ]
  },
  {
   "cell_type": "markdown",
   "metadata": {},
   "source": [
    "## Task\n",
    "\n",
    "Read two integers and print two lines. The first line should contain integer division, a//b. The second line should contain float division, a/b.\n",
    "\n",
    "You don't need to perform any rounding or formatting operations.\n",
    "\n",
    "## Input Format\n",
    "\n",
    "The first line contains the first integer, a. The second line contains the second integer, b.\n",
    "\n",
    "## Output Format\n",
    "\n",
    "Print the two lines as described above.\n",
    "\n",
    "### Sample Input 0\n",
    "4\n",
    "3\n",
    "\n",
    "### Sample Output 0\n",
    "1\n",
    "1.33333333333"
   ]
  },
  {
   "cell_type": "markdown",
   "metadata": {},
   "source": [
    "## Solution"
   ]
  },
  {
   "cell_type": "code",
   "execution_count": 2,
   "metadata": {},
   "outputs": [
    {
     "name": "stdout",
     "output_type": "stream",
     "text": [
      "23\n",
      "5\n",
      "4\n",
      "4.6\n"
     ]
    }
   ],
   "source": [
    "if __name__ == '__main__':\n",
    "    a = int(input())\n",
    "    b = int(input())\n",
    "print(a//b)\n",
    "print(a/b)\n"
   ]
  }
 ],
 "metadata": {
  "kernelspec": {
   "display_name": "Python 3",
   "language": "python",
   "name": "python3"
  },
  "language_info": {
   "codemirror_mode": {
    "name": "ipython",
    "version": 3
   },
   "file_extension": ".py",
   "mimetype": "text/x-python",
   "name": "python",
   "nbconvert_exporter": "python",
   "pygments_lexer": "ipython3",
   "version": "3.7.4"
  }
 },
 "nbformat": 4,
 "nbformat_minor": 2
}
